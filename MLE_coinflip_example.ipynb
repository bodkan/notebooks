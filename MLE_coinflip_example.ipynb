{
 "cells": [
  {
   "cell_type": "markdown",
   "metadata": {},
   "source": [
    "## Maximum likelihood estimation in R - a toy example\n",
    "\n",
    "Imagine we have a sample of $n$ coin flips (represented by the number of heads we got), but we don't know how \"fair\" the coin is. We can understand \"fairness\" by a parameter $p$, which describes how likely we are to observe a head in a single coinflip. For example, a fair coin flip would be expected to result in head 50% of the time, $p$ = 0.5.\n",
    "\n",
    "Our goal is: given a series of observed coin flips, what is the most likely \"hidden\" value of $p$?"
   ]
  },
  {
   "cell_type": "markdown",
   "metadata": {},
   "source": [
    "Let's simulate 100 coin flips, using a coin which is expected to result in observing a head with probability of $p$ = 0.3 (that's quit an unfair coin!). This will be our data set."
   ]
  },
  {
   "cell_type": "code",
   "execution_count": 1,
   "metadata": {},
   "outputs": [],
   "source": [
    "# the true, unknown \"fairness\" of the coin\n",
    "p <- 0.3\n",
    "\n",
    "# total number of coinflips\n",
    "n_coinflips <- 100"
   ]
  },
  {
   "cell_type": "code",
   "execution_count": 2,
   "metadata": {},
   "outputs": [
    {
     "data": {
      "text/html": [
       "<ol class=list-inline>\n",
       "\t<li>'H'</li>\n",
       "\t<li>'T'</li>\n",
       "\t<li>'T'</li>\n",
       "\t<li>'H'</li>\n",
       "\t<li>'T'</li>\n",
       "\t<li>'T'</li>\n",
       "\t<li>'T'</li>\n",
       "\t<li>'T'</li>\n",
       "\t<li>'T'</li>\n",
       "\t<li>'T'</li>\n",
       "\t<li>'T'</li>\n",
       "\t<li>'T'</li>\n",
       "\t<li>'H'</li>\n",
       "\t<li>'T'</li>\n",
       "\t<li>'T'</li>\n",
       "\t<li>'T'</li>\n",
       "\t<li>'H'</li>\n",
       "\t<li>'H'</li>\n",
       "\t<li>'T'</li>\n",
       "\t<li>'T'</li>\n",
       "\t<li>'H'</li>\n",
       "\t<li>'H'</li>\n",
       "\t<li>'H'</li>\n",
       "\t<li>'T'</li>\n",
       "\t<li>'T'</li>\n",
       "\t<li>'T'</li>\n",
       "\t<li>'T'</li>\n",
       "\t<li>'H'</li>\n",
       "\t<li>'T'</li>\n",
       "\t<li>'T'</li>\n",
       "\t<li>'T'</li>\n",
       "\t<li>'T'</li>\n",
       "\t<li>'T'</li>\n",
       "\t<li>'T'</li>\n",
       "\t<li>'H'</li>\n",
       "\t<li>'T'</li>\n",
       "\t<li>'T'</li>\n",
       "\t<li>'T'</li>\n",
       "\t<li>'T'</li>\n",
       "\t<li>'T'</li>\n",
       "\t<li>'H'</li>\n",
       "\t<li>'H'</li>\n",
       "\t<li>'T'</li>\n",
       "\t<li>'T'</li>\n",
       "\t<li>'T'</li>\n",
       "\t<li>'H'</li>\n",
       "\t<li>'T'</li>\n",
       "\t<li>'T'</li>\n",
       "\t<li>'T'</li>\n",
       "\t<li>'T'</li>\n",
       "\t<li>'T'</li>\n",
       "\t<li>'H'</li>\n",
       "\t<li>'T'</li>\n",
       "\t<li>'H'</li>\n",
       "\t<li>'T'</li>\n",
       "\t<li>'T'</li>\n",
       "\t<li>'H'</li>\n",
       "\t<li>'T'</li>\n",
       "\t<li>'H'</li>\n",
       "\t<li>'T'</li>\n",
       "\t<li>'H'</li>\n",
       "\t<li>'T'</li>\n",
       "\t<li>'T'</li>\n",
       "\t<li>'T'</li>\n",
       "\t<li>'T'</li>\n",
       "\t<li>'T'</li>\n",
       "\t<li>'T'</li>\n",
       "\t<li>'T'</li>\n",
       "\t<li>'T'</li>\n",
       "\t<li>'T'</li>\n",
       "\t<li>'T'</li>\n",
       "\t<li>'T'</li>\n",
       "\t<li>'H'</li>\n",
       "\t<li>'T'</li>\n",
       "\t<li>'T'</li>\n",
       "\t<li>'T'</li>\n",
       "\t<li>'H'</li>\n",
       "\t<li>'H'</li>\n",
       "\t<li>'T'</li>\n",
       "\t<li>'T'</li>\n",
       "\t<li>'T'</li>\n",
       "\t<li>'T'</li>\n",
       "\t<li>'T'</li>\n",
       "\t<li>'H'</li>\n",
       "\t<li>'T'</li>\n",
       "\t<li>'H'</li>\n",
       "\t<li>'T'</li>\n",
       "\t<li>'T'</li>\n",
       "\t<li>'T'</li>\n",
       "\t<li>'T'</li>\n",
       "\t<li>'T'</li>\n",
       "\t<li>'T'</li>\n",
       "\t<li>'H'</li>\n",
       "\t<li>'T'</li>\n",
       "\t<li>'T'</li>\n",
       "\t<li>'T'</li>\n",
       "\t<li>'T'</li>\n",
       "\t<li>'H'</li>\n",
       "\t<li>'T'</li>\n",
       "\t<li>'H'</li>\n",
       "</ol>\n"
      ],
      "text/latex": [
       "\\begin{enumerate*}\n",
       "\\item 'H'\n",
       "\\item 'T'\n",
       "\\item 'T'\n",
       "\\item 'H'\n",
       "\\item 'T'\n",
       "\\item 'T'\n",
       "\\item 'T'\n",
       "\\item 'T'\n",
       "\\item 'T'\n",
       "\\item 'T'\n",
       "\\item 'T'\n",
       "\\item 'T'\n",
       "\\item 'H'\n",
       "\\item 'T'\n",
       "\\item 'T'\n",
       "\\item 'T'\n",
       "\\item 'H'\n",
       "\\item 'H'\n",
       "\\item 'T'\n",
       "\\item 'T'\n",
       "\\item 'H'\n",
       "\\item 'H'\n",
       "\\item 'H'\n",
       "\\item 'T'\n",
       "\\item 'T'\n",
       "\\item 'T'\n",
       "\\item 'T'\n",
       "\\item 'H'\n",
       "\\item 'T'\n",
       "\\item 'T'\n",
       "\\item 'T'\n",
       "\\item 'T'\n",
       "\\item 'T'\n",
       "\\item 'T'\n",
       "\\item 'H'\n",
       "\\item 'T'\n",
       "\\item 'T'\n",
       "\\item 'T'\n",
       "\\item 'T'\n",
       "\\item 'T'\n",
       "\\item 'H'\n",
       "\\item 'H'\n",
       "\\item 'T'\n",
       "\\item 'T'\n",
       "\\item 'T'\n",
       "\\item 'H'\n",
       "\\item 'T'\n",
       "\\item 'T'\n",
       "\\item 'T'\n",
       "\\item 'T'\n",
       "\\item 'T'\n",
       "\\item 'H'\n",
       "\\item 'T'\n",
       "\\item 'H'\n",
       "\\item 'T'\n",
       "\\item 'T'\n",
       "\\item 'H'\n",
       "\\item 'T'\n",
       "\\item 'H'\n",
       "\\item 'T'\n",
       "\\item 'H'\n",
       "\\item 'T'\n",
       "\\item 'T'\n",
       "\\item 'T'\n",
       "\\item 'T'\n",
       "\\item 'T'\n",
       "\\item 'T'\n",
       "\\item 'T'\n",
       "\\item 'T'\n",
       "\\item 'T'\n",
       "\\item 'T'\n",
       "\\item 'T'\n",
       "\\item 'H'\n",
       "\\item 'T'\n",
       "\\item 'T'\n",
       "\\item 'T'\n",
       "\\item 'H'\n",
       "\\item 'H'\n",
       "\\item 'T'\n",
       "\\item 'T'\n",
       "\\item 'T'\n",
       "\\item 'T'\n",
       "\\item 'T'\n",
       "\\item 'H'\n",
       "\\item 'T'\n",
       "\\item 'H'\n",
       "\\item 'T'\n",
       "\\item 'T'\n",
       "\\item 'T'\n",
       "\\item 'T'\n",
       "\\item 'T'\n",
       "\\item 'T'\n",
       "\\item 'H'\n",
       "\\item 'T'\n",
       "\\item 'T'\n",
       "\\item 'T'\n",
       "\\item 'T'\n",
       "\\item 'H'\n",
       "\\item 'T'\n",
       "\\item 'H'\n",
       "\\end{enumerate*}\n"
      ],
      "text/markdown": [
       "1. 'H'\n",
       "2. 'T'\n",
       "3. 'T'\n",
       "4. 'H'\n",
       "5. 'T'\n",
       "6. 'T'\n",
       "7. 'T'\n",
       "8. 'T'\n",
       "9. 'T'\n",
       "10. 'T'\n",
       "11. 'T'\n",
       "12. 'T'\n",
       "13. 'H'\n",
       "14. 'T'\n",
       "15. 'T'\n",
       "16. 'T'\n",
       "17. 'H'\n",
       "18. 'H'\n",
       "19. 'T'\n",
       "20. 'T'\n",
       "21. 'H'\n",
       "22. 'H'\n",
       "23. 'H'\n",
       "24. 'T'\n",
       "25. 'T'\n",
       "26. 'T'\n",
       "27. 'T'\n",
       "28. 'H'\n",
       "29. 'T'\n",
       "30. 'T'\n",
       "31. 'T'\n",
       "32. 'T'\n",
       "33. 'T'\n",
       "34. 'T'\n",
       "35. 'H'\n",
       "36. 'T'\n",
       "37. 'T'\n",
       "38. 'T'\n",
       "39. 'T'\n",
       "40. 'T'\n",
       "41. 'H'\n",
       "42. 'H'\n",
       "43. 'T'\n",
       "44. 'T'\n",
       "45. 'T'\n",
       "46. 'H'\n",
       "47. 'T'\n",
       "48. 'T'\n",
       "49. 'T'\n",
       "50. 'T'\n",
       "51. 'T'\n",
       "52. 'H'\n",
       "53. 'T'\n",
       "54. 'H'\n",
       "55. 'T'\n",
       "56. 'T'\n",
       "57. 'H'\n",
       "58. 'T'\n",
       "59. 'H'\n",
       "60. 'T'\n",
       "61. 'H'\n",
       "62. 'T'\n",
       "63. 'T'\n",
       "64. 'T'\n",
       "65. 'T'\n",
       "66. 'T'\n",
       "67. 'T'\n",
       "68. 'T'\n",
       "69. 'T'\n",
       "70. 'T'\n",
       "71. 'T'\n",
       "72. 'T'\n",
       "73. 'H'\n",
       "74. 'T'\n",
       "75. 'T'\n",
       "76. 'T'\n",
       "77. 'H'\n",
       "78. 'H'\n",
       "79. 'T'\n",
       "80. 'T'\n",
       "81. 'T'\n",
       "82. 'T'\n",
       "83. 'T'\n",
       "84. 'H'\n",
       "85. 'T'\n",
       "86. 'H'\n",
       "87. 'T'\n",
       "88. 'T'\n",
       "89. 'T'\n",
       "90. 'T'\n",
       "91. 'T'\n",
       "92. 'T'\n",
       "93. 'H'\n",
       "94. 'T'\n",
       "95. 'T'\n",
       "96. 'T'\n",
       "97. 'T'\n",
       "98. 'H'\n",
       "99. 'T'\n",
       "100. 'H'\n",
       "\n",
       "\n"
      ],
      "text/plain": [
       "  [1] \"H\" \"T\" \"T\" \"H\" \"T\" \"T\" \"T\" \"T\" \"T\" \"T\" \"T\" \"T\" \"H\" \"T\" \"T\" \"T\" \"H\" \"H\"\n",
       " [19] \"T\" \"T\" \"H\" \"H\" \"H\" \"T\" \"T\" \"T\" \"T\" \"H\" \"T\" \"T\" \"T\" \"T\" \"T\" \"T\" \"H\" \"T\"\n",
       " [37] \"T\" \"T\" \"T\" \"T\" \"H\" \"H\" \"T\" \"T\" \"T\" \"H\" \"T\" \"T\" \"T\" \"T\" \"T\" \"H\" \"T\" \"H\"\n",
       " [55] \"T\" \"T\" \"H\" \"T\" \"H\" \"T\" \"H\" \"T\" \"T\" \"T\" \"T\" \"T\" \"T\" \"T\" \"T\" \"T\" \"T\" \"T\"\n",
       " [73] \"H\" \"T\" \"T\" \"T\" \"H\" \"H\" \"T\" \"T\" \"T\" \"T\" \"T\" \"H\" \"T\" \"H\" \"T\" \"T\" \"T\" \"T\"\n",
       " [91] \"T\" \"T\" \"H\" \"T\" \"T\" \"T\" \"T\" \"H\" \"T\" \"H\""
      ]
     },
     "metadata": {},
     "output_type": "display_data"
    }
   ],
   "source": [
    "(coinflips <- sample(c(\"H\", \"T\"), size = n_coinflips, replace = TRUE, prob = c(p, 1 - p)))"
   ]
  },
  {
   "cell_type": "code",
   "execution_count": 3,
   "metadata": {},
   "outputs": [
    {
     "data": {
      "text/html": [
       "26"
      ],
      "text/latex": [
       "26"
      ],
      "text/markdown": [
       "26"
      ],
      "text/plain": [
       "[1] 26"
      ]
     },
     "metadata": {},
     "output_type": "display_data"
    }
   ],
   "source": [
    "(n_heads <- sum(coinflips == \"H\"))"
   ]
  },
  {
   "cell_type": "markdown",
   "metadata": {},
   "source": [
    "How can we recover the $p$ if we are given just the number of heads, `n_heads`?"
   ]
  },
  {
   "cell_type": "markdown",
   "metadata": {},
   "source": [
    "## Solution - maximum likelihood method (MLE)\n",
    "\n",
    "Let's load some packages first:"
   ]
  },
  {
   "cell_type": "code",
   "execution_count": 4,
   "metadata": {},
   "outputs": [
    {
     "name": "stderr",
     "output_type": "stream",
     "text": [
      "── Attaching packages ─────────────────────────────────────── tidyverse 1.2.1 ──\n",
      "✔ ggplot2 3.0.0     ✔ purrr   0.2.5\n",
      "✔ tibble  1.4.2     ✔ dplyr   0.7.8\n",
      "✔ tidyr   0.8.2     ✔ stringr 1.3.1\n",
      "✔ readr   1.2.1     ✔ forcats 0.3.0\n",
      "── Conflicts ────────────────────────────────────────── tidyverse_conflicts() ──\n",
      "✖ dplyr::filter() masks stats::filter()\n",
      "✖ dplyr::lag()    masks stats::lag()\n",
      "\n",
      "Attaching package: ‘bdkn’\n",
      "\n",
      "The following object is masked from ‘package:ggplot2’:\n",
      "\n",
      "    %+%\n",
      "\n"
     ]
    }
   ],
   "source": [
    "library(tidyverse)\n",
    "library(bdkn)"
   ]
  },
  {
   "cell_type": "markdown",
   "metadata": {},
   "source": [
    "### Finding the MLE using grid search\n",
    "\n",
    "We will calculate and compare likelihoods of uniformly sampled values of $p$ using the binomial density function."
   ]
  },
  {
   "cell_type": "code",
   "execution_count": 5,
   "metadata": {},
   "outputs": [],
   "source": [
    "# a 1D \"grid\" of parameter values to explore\n",
    "param <- seq(0, 1, length.out = 100)\n",
    "\n",
    "# likelihoods of the \"grid points\" given the observed number of heads\n",
    "likelihoods <- map_dbl(param, ~ dbinom(n_heads, n_coinflips, .x))"
   ]
  },
  {
   "cell_type": "code",
   "execution_count": 6,
   "metadata": {},
   "outputs": [
    {
     "data": {
      "text/html": [
       "0.262626262626263"
      ],
      "text/latex": [
       "0.262626262626263"
      ],
      "text/markdown": [
       "0.262626262626263"
      ],
      "text/plain": [
       "[1] 0.2626263"
      ]
     },
     "metadata": {},
     "output_type": "display_data"
    }
   ],
   "source": [
    "param[which.max(likelihoods)]"
   ]
  },
  {
   "cell_type": "markdown",
   "metadata": {},
   "source": [
    "#### Finding the MLE using the optimization algorithm:\n",
    "\n",
    "We will use the `optimization` function which searches a given interval to find the minimum of some function $f$ with respect to its first argument. In this case, our function of interest is the binomial density function."
   ]
  },
  {
   "cell_type": "code",
   "execution_count": 7,
   "metadata": {},
   "outputs": [],
   "source": [
    "# Likelihood function to minimize - negative binomial density of p given:\n",
    "#   - data: counts of heads\n",
    "#   - n: number of coin flips\n",
    "negLL <- function(data, n, p) {\n",
    "    -dbinom(data, n, p, log = TRUE)\n",
    "}"
   ]
  },
  {
   "cell_type": "code",
   "execution_count": 8,
   "metadata": {},
   "outputs": [],
   "source": [
    "res <- optimize(negLL, interval=c(0, 1), data = n_heads, n = n_coinflips)"
   ]
  },
  {
   "cell_type": "markdown",
   "metadata": {},
   "source": [
    "The `optimize` function returns a list with two elements. The `minimum` element contains the value of $p$ which resulted in a highest likelihood of the `negLL` function."
   ]
  },
  {
   "cell_type": "code",
   "execution_count": 9,
   "metadata": {},
   "outputs": [
    {
     "data": {
      "text/html": [
       "0.260011071730327"
      ],
      "text/latex": [
       "0.260011071730327"
      ],
      "text/markdown": [
       "0.260011071730327"
      ],
      "text/plain": [
       "[1] 0.2600111"
      ]
     },
     "metadata": {},
     "output_type": "display_data"
    }
   ],
   "source": [
    "res$minimum"
   ]
  },
  {
   "cell_type": "markdown",
   "metadata": {},
   "source": [
    "## Plotting MLE results of both methods"
   ]
  },
  {
   "cell_type": "code",
   "execution_count": 10,
   "metadata": {},
   "outputs": [
    {
     "data": {},
     "metadata": {},
     "output_type": "display_data"
    },
    {
     "data": {
      "image/png": "[encoded data removed]",
      "text/plain": [
       "plot without title"
      ]
     },
     "metadata": {},
     "output_type": "display_data"
    }
   ],
   "source": [
    "set_dim(8, 4, 150)\n",
    "\n",
    "ggplot() +\n",
    "    geom_point(aes(param, likelihoods, color = \"grid points\")) +\n",
    "    geom_vline(aes(xintercept = param[which.max(likelihoods)], color = \"grid search MLE\")) +\n",
    "    geom_vline(aes(xintercept = res$minimum, color = \"optimize MLE\")) +\n",
    "    geom_vline(aes(xintercept = p, color = \"truth\")) +\n",
    "    labs(x = \"proportion of heads\", y = \"grid search MLE\") +\n",
    "    labs(x = \"proportion of heads\", y = \"optimize MLE\") +\n",
    "    theme(legend.title = element_blank())"
   ]
  },
  {
   "cell_type": "markdown",
   "metadata": {},
   "source": [
    "## Caution\n",
    "\n",
    "In the example above, both of our MLE results got reasonably to the truth. However, our confidence in the MLE result will largely depend on the number of coinflips in our experiment. For example, flipping a perfectly fair coin only ten times can easily produce 7 heads out of 10, and the naive MLE approach (which is essentially a single value) could lead us to believe that the coin is probably loaded."
   ]
  }
 ],
 "metadata": {
  "kernelspec": {
   "display_name": "R",
   "language": "R",
   "name": "ir"
  },
  "language_info": {
   "codemirror_mode": "r",
   "file_extension": ".r",
   "mimetype": "text/x-r-source",
   "name": "R",
   "pygments_lexer": "r",
   "version": "3.5.1"
  }
 },
 "nbformat": 4,
 "nbformat_minor": 1
}
