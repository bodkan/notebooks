{
 "cells": [
  {
   "cell_type": "markdown",
   "metadata": {},
   "source": [
    "https://orgparse.readthedocs.io/en/latest/"
   ]
  },
  {
   "cell_type": "code",
   "execution_count": 5,
   "metadata": {},
   "outputs": [],
   "source": [
    "import orgparse "
   ]
  },
  {
   "cell_type": "code",
   "execution_count": 10,
   "metadata": {},
   "outputs": [
    {
     "name": "stdout",
     "output_type": "stream",
     "text": [
      "-rw-r--r--  1 martin_petr  staff  91111 Apr 28 22:46 /Users/martin_petr/google/org/phd.org_archive\n"
     ]
    }
   ],
   "source": [
    "ll ~/google/org/phd.org_archive"
   ]
  },
  {
   "cell_type": "code",
   "execution_count": 12,
   "metadata": {},
   "outputs": [],
   "source": [
    "x = orgparse.load(\"/Users/martin_petr/Google/org/phd.org_archive\")"
   ]
  },
  {
   "cell_type": "code",
   "execution_count": 19,
   "metadata": {},
   "outputs": [],
   "source": [
    "for node in x: \n",
    "    pass\n",
    "#print(i)"
   ]
  },
  {
   "cell_type": "code",
   "execution_count": 20,
   "metadata": {},
   "outputs": [
    {
     "name": "stdout",
     "output_type": "stream",
     "text": [
      "* DONE Hallast review\n",
      "CLOSED: [2020-04-28 Tue 22:46] DEADLINE: <2020-04-29 Wed> SCHEDULED: <2020-04-27 Mon>\n",
      ":PROPERTIES:\n",
      ":ARCHIVE_TIME: 2020-04-28 Tue 22:46\n",
      ":ARCHIVE_FILE: ~/Google/org/phd.org\n",
      ":ARCHIVE_CATEGORY: phd\n",
      ":ARCHIVE_TODO: DONE\n",
      ":END:\n",
      ":LOGBOOK:\n",
      "CLOCK: [2020-04-28 Tue 21:40]--[2020-04-28 Tue 22:46] =>  1:06\n",
      "CLOCK: [2020-04-28 Tue 19:46]--[2020-04-28 Tue 21:30] =>  1:44\n",
      "CLOCK: [2020-04-28 Tue 15:10]--[2020-04-28 Tue 17:40] =>  2:30\n",
      "CLOCK: [2020-04-28 Tue 14:04]--[2020-04-28 Tue 14:45] =>  0:41\n",
      "CLOCK: [2020-04-28 Tue 12:49]--[2020-04-28 Tue 12:59] =>  0:10\n",
      "CLOCK: [2020-04-28 Tue 12:25]--[2020-04-28 Tue 12:48] =>  0:23\n",
      "CLOCK: [2020-04-28 Tue 12:13]--[2020-04-28 Tue 12:21] =>  0:08\n",
      "CLOCK: [2020-04-28 Tue 10:45]--[2020-04-28 Tue 12:11] =>  1:26\n",
      "CLOCK: [2020-04-27 Mon 20:42]--[2020-04-27 Mon 22:46] =>  2:04\n",
      "CLOCK: [2020-04-27 Mon 19:51]--[2020-04-27 Mon 19:57] =>  0:06\n",
      "CLOCK: [2020-04-27 Mon 18:44]--[2020-04-27 Mon 19:43] =>  0:59\n",
      "CLOCK: [2020-04-27 Mon 18:18]--[2020-04-27 Mon 18:21] =>  0:03\n",
      "CLOCK: [2020-04-27 Mon 17:24]--[2020-04-27 Mon 18:04] =>  0:40\n",
      "CLOCK: [2020-04-27 Mon 14:39]--[2020-04-27 Mon 16:10] =>  1:31\n",
      "CLOCK: [2020-04-27 Mon 11:57]--[2020-04-27 Mon 12:10] =>  0:13\n",
      ":END:\n",
      "[2020-04-27 Mon 00:40]\n"
     ]
    }
   ],
   "source": [
    "print(node)"
   ]
  },
  {
   "cell_type": "code",
   "execution_count": 21,
   "metadata": {},
   "outputs": [
    {
     "data": {
      "text/plain": [
       "[OrgDateClock((2020, 4, 28, 21, 40, 0), (2020, 4, 28, 22, 46, 0)),\n",
       " OrgDateClock((2020, 4, 28, 19, 46, 0), (2020, 4, 28, 21, 30, 0)),\n",
       " OrgDateClock((2020, 4, 28, 15, 10, 0), (2020, 4, 28, 17, 40, 0)),\n",
       " OrgDateClock((2020, 4, 28, 14, 4, 0), (2020, 4, 28, 14, 45, 0)),\n",
       " OrgDateClock((2020, 4, 28, 12, 49, 0), (2020, 4, 28, 12, 59, 0)),\n",
       " OrgDateClock((2020, 4, 28, 12, 25, 0), (2020, 4, 28, 12, 48, 0)),\n",
       " OrgDateClock((2020, 4, 28, 12, 13, 0), (2020, 4, 28, 12, 21, 0)),\n",
       " OrgDateClock((2020, 4, 28, 10, 45, 0), (2020, 4, 28, 12, 11, 0)),\n",
       " OrgDateClock((2020, 4, 27, 20, 42, 0), (2020, 4, 27, 22, 46, 0)),\n",
       " OrgDateClock((2020, 4, 27, 19, 51, 0), (2020, 4, 27, 19, 57, 0)),\n",
       " OrgDateClock((2020, 4, 27, 18, 44, 0), (2020, 4, 27, 19, 43, 0)),\n",
       " OrgDateClock((2020, 4, 27, 18, 18, 0), (2020, 4, 27, 18, 21, 0)),\n",
       " OrgDateClock((2020, 4, 27, 17, 24, 0), (2020, 4, 27, 18, 4, 0)),\n",
       " OrgDateClock((2020, 4, 27, 14, 39, 0), (2020, 4, 27, 16, 10, 0)),\n",
       " OrgDateClock((2020, 4, 27, 11, 57, 0), (2020, 4, 27, 12, 10, 0))]"
      ]
     },
     "execution_count": 21,
     "metadata": {},
     "output_type": "execute_result"
    }
   ],
   "source": [
    "node.clock"
   ]
  }
 ],
 "metadata": {
  "kernelspec": {
   "display_name": "Python 3",
   "language": "python",
   "name": "python3"
  },
  "language_info": {
   "codemirror_mode": {
    "name": "ipython",
    "version": 3
   },
   "file_extension": ".py",
   "mimetype": "text/x-python",
   "name": "python",
   "nbconvert_exporter": "python",
   "pygments_lexer": "ipython3",
   "version": "3.7.6"
  }
 },
 "nbformat": 4,
 "nbformat_minor": 4
}
